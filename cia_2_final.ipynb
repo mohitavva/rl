{
 "cells": [
  {
   "cell_type": "code",
   "execution_count": 75,
   "metadata": {},
   "outputs": [],
   "source": [
    "import numpy as np\n",
    "import pandas as pd\n",
    "import matplotlib.pyplot as plt\n",
    "\n",
    "import random"
   ]
  },
  {
   "cell_type": "code",
   "execution_count": 76,
   "metadata": {},
   "outputs": [],
   "source": [
    "def prepare_grid(grid_size, obstacle_ratio):\n",
    "    grid = np.zeros((grid_size, grid_size))\n",
    "    num_obstacles = int(grid_size*grid_size*obstacle_ratio)\n",
    "\n",
    "    for i in range(num_obstacles):\n",
    "        x, y = np.random.randint(0, grid_size, size=2)\n",
    "        grid[x, y] = -1\n",
    "\n",
    "    start = (random.randint(0, grid_size-1), random.randint(0, grid_size - 1))\n",
    "    goal = (random.randint(0, grid_size-1), random.randint(0, grid_size - 1))\n",
    "\n",
    "    while ((grid[start]) == -1 or grid[goal] == -1 or start == goal):\n",
    "        start = (random.randint(0, grid_size-1), random.randint(0, grid_size - 1))\n",
    "        goal = (random.randint(0, grid_size-1), random.randint(0, grid_size - 1))\n",
    "\n",
    "    grid[start] = 2\n",
    "    grid[goal] = 3\n",
    "\n",
    "    return grid, start, goal\n",
    "\n",
    "def reward_grid(grid, grid_size, reward_def, reward_goal, reward_obstacle):\n",
    "    rewards = np.full((grid_size, grid_size), reward_def)\n",
    "    rewards[grid == 3] = reward_goal\n",
    "    rewards[grid == -1] = reward_obstacle\n",
    "\n",
    "    return rewards\n",
    "    "
   ]
  },
  {
   "cell_type": "code",
   "execution_count": 81,
   "metadata": {},
   "outputs": [
    {
     "data": {
      "image/png": "[encoded data removed]",
      "text/plain": [
       "<Figure size 432x288 with 1 Axes>"
      ]
     },
     "metadata": {
      "needs_background": "light"
     },
     "output_type": "display_data"
    },
    {
     "data": {
      "image/png": "[encoded data removed]",
      "text/plain": [
       "<Figure size 432x288 with 1 Axes>"
      ]
     },
     "metadata": {
      "needs_background": "light"
     },
     "output_type": "display_data"
    }
   ],
   "source": [
    "grid_size = 25\n",
    "obstacle_ratio = 0.25\n",
    "actions = [\"up\", \"down\", \"left\", \"right\"]\n",
    "reward_def = -1\n",
    "reward_goal = 100\n",
    "reward_obstacle = -10\n",
    "threshold = 1e-5\n",
    "gamma = 0.8\n",
    "\n",
    "\n",
    "grid, start, goal = prepare_grid(grid_size, obstacle_ratio)\n",
    "plt.title(\"Initialized Environment (Grid)\")\n",
    "plt.imshow(grid, cmap='coolwarm')\n",
    "plt.show()\n",
    "\n",
    "rewards = reward_grid(grid, grid_size, reward_def, reward_goal, reward_obstacle)\n",
    "\n",
    "plt.title(\"Initialized Rewards (Grid)\")\n",
    "plt.imshow(rewards, cmap='coolwarm')\n",
    "plt.show()\n",
    "\n"
   ]
  },
  {
   "cell_type": "code",
   "execution_count": 78,
   "metadata": {},
   "outputs": [],
   "source": [
    "def state_action(state, action, grid_size):\n",
    "    x, y = state\n",
    "    if (action == \"up\" and x > 0):\n",
    "        return (x-1, y)\n",
    "    elif (action == \"down\" and x < grid_size - 1):\n",
    "        return (x+1, y)\n",
    "    elif (action == \"right\" and y < grid_size - 1):\n",
    "        return (x, y+1)\n",
    "    elif (action == \"left\" and y > 0):\n",
    "        return (x, y-1)\n",
    "    return state"
   ]
  },
  {
   "cell_type": "code",
   "execution_count": 84,
   "metadata": {},
   "outputs": [
    {
     "name": "stdout",
     "output_type": "stream",
     "text": [
      "(0, 1)\n"
     ]
    },
    {
     "ename": "ValueError",
     "evalue": "could not convert string to float: 'up'",
     "output_type": "error",
     "traceback": [
      "\u001b[0;31m---------------------------------------------------------------------------\u001b[0m",
      "\u001b[0;31mValueError\u001b[0m                                Traceback (most recent call last)",
      "\u001b[0;32m/tmp/ipykernel_1393/3428450088.py\u001b[0m in \u001b[0;36m<module>\u001b[0;34m\u001b[0m\n\u001b[1;32m     30\u001b[0m     \u001b[0;32mreturn\u001b[0m \u001b[0mvalues\u001b[0m\u001b[0;34m,\u001b[0m \u001b[0mpolicy\u001b[0m\u001b[0;34m\u001b[0m\u001b[0;34m\u001b[0m\u001b[0m\n\u001b[1;32m     31\u001b[0m \u001b[0;34m\u001b[0m\u001b[0m\n\u001b[0;32m---> 32\u001b[0;31m \u001b[0mvalues_vi\u001b[0m\u001b[0;34m,\u001b[0m \u001b[0mpolicy_vi\u001b[0m \u001b[0;34m=\u001b[0m \u001b[0mvalue_iteration\u001b[0m\u001b[0;34m(\u001b[0m\u001b[0mrewards\u001b[0m\u001b[0;34m,\u001b[0m \u001b[0mgamma\u001b[0m\u001b[0;34m,\u001b[0m \u001b[0mthreshold\u001b[0m\u001b[0;34m,\u001b[0m \u001b[0mgoal\u001b[0m\u001b[0;34m,\u001b[0m \u001b[0mactions\u001b[0m\u001b[0;34m,\u001b[0m \u001b[0mgrid_size\u001b[0m\u001b[0;34m)\u001b[0m\u001b[0;34m\u001b[0m\u001b[0;34m\u001b[0m\u001b[0m\n\u001b[0m",
      "\u001b[0;32m/tmp/ipykernel_1393/3428450088.py\u001b[0m in \u001b[0;36mvalue_iteration\u001b[0;34m(rewards, gamma, threshold, goal, actions, grid_size)\u001b[0m\n\u001b[1;32m     23\u001b[0m \u001b[0;34m\u001b[0m\u001b[0m\n\u001b[1;32m     24\u001b[0m                 \u001b[0mvalues\u001b[0m\u001b[0;34m[\u001b[0m\u001b[0mx\u001b[0m\u001b[0;34m,\u001b[0m \u001b[0my\u001b[0m\u001b[0;34m]\u001b[0m \u001b[0;34m=\u001b[0m \u001b[0mbest_value\u001b[0m\u001b[0;34m\u001b[0m\u001b[0;34m\u001b[0m\u001b[0m\n\u001b[0;32m---> 25\u001b[0;31m                 \u001b[0mpolicy\u001b[0m\u001b[0;34m[\u001b[0m\u001b[0mx\u001b[0m\u001b[0;34m,\u001b[0m \u001b[0my\u001b[0m\u001b[0;34m]\u001b[0m \u001b[0;34m=\u001b[0m \u001b[0mbest_action\u001b[0m\u001b[0;34m\u001b[0m\u001b[0;34m\u001b[0m\u001b[0m\n\u001b[0m\u001b[1;32m     26\u001b[0m \u001b[0;34m\u001b[0m\u001b[0m\n\u001b[1;32m     27\u001b[0m         \u001b[0;32mif\u001b[0m \u001b[0mdelta\u001b[0m \u001b[0;34m<\u001b[0m \u001b[0mthreshold\u001b[0m\u001b[0;34m:\u001b[0m\u001b[0;34m\u001b[0m\u001b[0;34m\u001b[0m\u001b[0m\n",
      "\u001b[0;31mValueError\u001b[0m: could not convert string to float: 'up'"
     ]
    }
   ],
   "source": [
    "def value_iteration(rewards, gamma, threshold, goal, actions, grid_size):\n",
    "    values = np.zeros_like(rewards, dtype=float)\n",
    "    policy = np.empty_like(rewards, dtype=float)\n",
    "\n",
    "    while (True):\n",
    "        delta = 0\n",
    "        for x in range(grid_size):\n",
    "            for y in range(grid_size):\n",
    "                if ((x, y) == goal or grid[x, y] == -1):\n",
    "                    continue\n",
    "\n",
    "                action_values = []\n",
    "                for action in actions:\n",
    "                    next_state = state_action((x, y), action, grid_size)\n",
    "                    nx, ny = next_state\n",
    "                    action_values.append(rewards[nx, ny] + gamma * values[nx, ny])\n",
    "                \n",
    "                best_action = actions[np.argmax(action_values)]\n",
    "                best_value = max(action_values)\n",
    "                delta = max(delta, abs(best_value - values[x, y]))\n",
    "                # print(policy)\n",
    "                print(next_state)\n",
    "\n",
    "                values[x, y] = best_value\n",
    "                policy[x, y] = best_action\n",
    "\n",
    "        if delta < threshold:\n",
    "            break\n",
    "\n",
    "    return values, policy                \n",
    "\n",
    "values_vi, policy_vi = value_iteration(rewards, gamma, threshold, goal, actions, grid_size)"
   ]
  }
 ],
 "metadata": {
  "kernelspec": {
   "display_name": "Python 3",
   "language": "python",
   "name": "python3"
  },
  "language_info": {
   "codemirror_mode": {
    "name": "ipython",
    "version": 3
   },
   "file_extension": ".py",
   "mimetype": "text/x-python",
   "name": "python",
   "nbconvert_exporter": "python",
   "pygments_lexer": "ipython3",
   "version": "3.10.12"
  }
 },
 "nbformat": 4,
 "nbformat_minor": 2
}
